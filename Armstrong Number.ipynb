{
 "cells": [
  {
   "cell_type": "code",
   "execution_count": null,
   "id": "b33a455b-2d7e-442f-aae8-e86248233984",
   "metadata": {},
   "outputs": [],
   "source": [
    "num=int(input(\"Enter the number:\"))\n",
    "temp=num\n",
    "n=len(str(num))\n",
    "sum=0\n",
    "while temp>0:\n",
    "    digit=temp%10\n",
    "    sum+=digit**n\n",
    "    temp//=10\n",
    "print(\"Latest value of sum:\",sum)\n",
    "print(\"Latest value of temp:\",temp)\n",
    "if sum==num:\n",
    "    print(num,\"is armstrong number\")\n",
    "else:\n",
    "    print(num,\"is not armstrong number\")"
   ]
  }
 ],
 "metadata": {
  "kernelspec": {
   "display_name": "Python 3 (ipykernel)",
   "language": "python",
   "name": "python3"
  },
  "language_info": {
   "codemirror_mode": {
    "name": "ipython",
    "version": 3
   },
   "file_extension": ".py",
   "mimetype": "text/x-python",
   "name": "python",
   "nbconvert_exporter": "python",
   "pygments_lexer": "ipython3",
   "version": "3.12.7"
  }
 },
 "nbformat": 4,
 "nbformat_minor": 5
}
