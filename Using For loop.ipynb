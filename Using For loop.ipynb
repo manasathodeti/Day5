{
 "cells": [
  {
   "cell_type": "code",
   "execution_count": null,
   "id": "bd5d20e5-a418-41bb-9d7d-8ff50e7aea9d",
   "metadata": {},
   "outputs": [],
   "source": [
    "for i in range(10,-1,-2):\n",
    "    print(i,end=\" \")\n",
    "    "
   ]
  }
 ],
 "metadata": {
  "kernelspec": {
   "display_name": "Python 3 (ipykernel)",
   "language": "python",
   "name": "python3"
  },
  "language_info": {
   "codemirror_mode": {
    "name": "ipython",
    "version": 3
   },
   "file_extension": ".py",
   "mimetype": "text/x-python",
   "name": "python",
   "nbconvert_exporter": "python",
   "pygments_lexer": "ipython3",
   "version": "3.12.7"
  }
 },
 "nbformat": 4,
 "nbformat_minor": 5
}
