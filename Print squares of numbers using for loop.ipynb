{
 "cells": [
  {
   "cell_type": "code",
   "execution_count": null,
   "id": "554b7d54-fc4e-4566-9698-baacbb71cda4",
   "metadata": {},
   "outputs": [],
   "source": [
    "#Write a program to print all the squares of numbers from 1 to 10\n",
    "for i in range(1,11):\n",
    "    print(f\"Square of {i} is {i*i} \")\n",
    "    "
   ]
  }
 ],
 "metadata": {
  "kernelspec": {
   "display_name": "Python 3 (ipykernel)",
   "language": "python",
   "name": "python3"
  },
  "language_info": {
   "codemirror_mode": {
    "name": "ipython",
    "version": 3
   },
   "file_extension": ".py",
   "mimetype": "text/x-python",
   "name": "python",
   "nbconvert_exporter": "python",
   "pygments_lexer": "ipython3",
   "version": "3.12.7"
  }
 },
 "nbformat": 4,
 "nbformat_minor": 5
}
